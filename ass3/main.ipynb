{
 "cells": [
  {
   "cell_type": "markdown",
   "id": "69a4ac49",
   "metadata": {
    "_cell_guid": "b1076dfc-b9ad-4769-8c92-a6c4dae69d19",
    "_uuid": "8f2839f25d086af736a60e9eeb907d3b93b6e0e5",
    "execution": {
     "iopub.execute_input": "2022-05-10T03:26:22.733098Z",
     "iopub.status.busy": "2022-05-10T03:26:22.732555Z",
     "iopub.status.idle": "2022-05-10T03:26:22.765354Z",
     "shell.execute_reply": "2022-05-10T03:26:22.764554Z",
     "shell.execute_reply.started": "2022-05-10T03:26:22.732994Z"
    },
    "papermill": {
     "duration": 0.006451,
     "end_time": "2022-06-03T03:09:09.597519",
     "exception": false,
     "start_time": "2022-06-03T03:09:09.591068",
     "status": "completed"
    },
    "tags": []
   },
   "source": [
    "import os\n",
    "print('current working directory is {}'.format(os.getcwd()))"
   ]
  },
  {
   "cell_type": "code",
   "execution_count": 1,
   "id": "48da55c2",
   "metadata": {
    "execution": {
     "iopub.execute_input": "2022-06-03T03:09:09.611898Z",
     "iopub.status.busy": "2022-06-03T03:09:09.611170Z",
     "iopub.status.idle": "2022-06-03T03:09:09.636089Z",
     "shell.execute_reply": "2022-06-03T03:09:09.635165Z"
    },
    "papermill": {
     "duration": 0.039892,
     "end_time": "2022-06-03T03:09:09.643646",
     "exception": false,
     "start_time": "2022-06-03T03:09:09.603754",
     "status": "completed"
    },
    "tags": []
   },
   "outputs": [
    {
     "name": "stdout",
     "output_type": "stream",
     "text": [
      "current working directory is /kaggle/working\n"
     ]
    }
   ],
   "source": [
    "import os\n",
    "print('current working directory is {}'.format(os.getcwd()))"
   ]
  },
  {
   "cell_type": "code",
   "execution_count": 2,
   "id": "61d298fb",
   "metadata": {
    "execution": {
     "iopub.execute_input": "2022-06-03T03:09:09.656599Z",
     "iopub.status.busy": "2022-06-03T03:09:09.656024Z",
     "iopub.status.idle": "2022-06-03T03:09:09.720554Z",
     "shell.execute_reply": "2022-06-03T03:09:09.719701Z"
    },
    "papermill": {
     "duration": 0.074131,
     "end_time": "2022-06-03T03:09:09.723573",
     "exception": false,
     "start_time": "2022-06-03T03:09:09.649442",
     "status": "completed"
    },
    "tags": []
   },
   "outputs": [
    {
     "data": {
      "text/plain": [
       "'/kaggle/working/ass3/'"
      ]
     },
     "execution_count": 2,
     "metadata": {},
     "output_type": "execute_result"
    }
   ],
   "source": [
    "import shutil\n",
    "shutil.copytree(r'../input/ass3code/ass3', r'/kaggle/working/ass3/')"
   ]
  },
  {
   "cell_type": "code",
   "execution_count": 3,
   "id": "d577082a",
   "metadata": {
    "execution": {
     "iopub.execute_input": "2022-06-03T03:09:09.737625Z",
     "iopub.status.busy": "2022-06-03T03:09:09.737234Z",
     "iopub.status.idle": "2022-06-03T03:09:09.743469Z",
     "shell.execute_reply": "2022-06-03T03:09:09.742553Z"
    },
    "papermill": {
     "duration": 0.020508,
     "end_time": "2022-06-03T03:09:09.750407",
     "exception": false,
     "start_time": "2022-06-03T03:09:09.729899",
     "status": "completed"
    },
    "tags": []
   },
   "outputs": [
    {
     "name": "stdout",
     "output_type": "stream",
     "text": [
      "current working directory is /kaggle/working/ass3\n"
     ]
    }
   ],
   "source": [
    "os.chdir('/kaggle/working/ass3/')\n",
    "print('current working directory is {}'.format(os.getcwd()))"
   ]
  },
  {
   "cell_type": "code",
   "execution_count": 4,
   "id": "d8fc9b60",
   "metadata": {
    "execution": {
     "iopub.execute_input": "2022-06-03T03:09:09.764449Z",
     "iopub.status.busy": "2022-06-03T03:09:09.764002Z",
     "iopub.status.idle": "2022-06-03T03:09:16.709324Z",
     "shell.execute_reply": "2022-06-03T03:09:16.708307Z"
    },
    "papermill": {
     "duration": 6.955588,
     "end_time": "2022-06-03T03:09:16.712190",
     "exception": false,
     "start_time": "2022-06-03T03:09:09.756602",
     "status": "completed"
    },
    "tags": []
   },
   "outputs": [
    {
     "name": "stdout",
     "output_type": "stream",
     "text": [
      "1.11.0\n",
      "True\n"
     ]
    }
   ],
   "source": [
    "import torch\n",
    "import torch.nn as nn  \n",
    "from utils.ViTNet import CIFAR_ViT\n",
    "print(torch.__version__)\n",
    "print(torch.cuda.is_available())"
   ]
  },
  {
   "cell_type": "code",
   "execution_count": 5,
   "id": "17f5f159",
   "metadata": {
    "execution": {
     "iopub.execute_input": "2022-06-03T03:09:16.721628Z",
     "iopub.status.busy": "2022-06-03T03:09:16.720867Z",
     "iopub.status.idle": "2022-06-03T09:50:43.905016Z",
     "shell.execute_reply": "2022-06-03T09:50:43.904088Z"
    },
    "papermill": {
     "duration": 24087.195655,
     "end_time": "2022-06-03T09:50:43.912111",
     "exception": false,
     "start_time": "2022-06-03T03:09:16.716456",
     "status": "completed"
    },
    "tags": []
   },
   "outputs": [
    {
     "data": {
      "application/vnd.jupyter.widget-view+json": {
       "model_id": "b9ff200278b442b3a14d956ed394b309",
       "version_major": 2,
       "version_minor": 0
      },
      "text/plain": [
       "Downloading:   0%|          | 0.00/160 [00:00<?, ?B/s]"
      ]
     },
     "metadata": {},
     "output_type": "display_data"
    },
    {
     "data": {
      "application/vnd.jupyter.widget-view+json": {
       "model_id": "8612a4fb60a44beca72d846124dd42e8",
       "version_major": 2,
       "version_minor": 0
      },
      "text/plain": [
       "Downloading:   0%|          | 0.00/502 [00:00<?, ?B/s]"
      ]
     },
     "metadata": {},
     "output_type": "display_data"
    },
    {
     "data": {
      "application/vnd.jupyter.widget-view+json": {
       "model_id": "0b5010edcaba487e8f535412204d1871",
       "version_major": 2,
       "version_minor": 0
      },
      "text/plain": [
       "Downloading:   0%|          | 0.00/330M [00:00<?, ?B/s]"
      ]
     },
     "metadata": {},
     "output_type": "display_data"
    },
    {
     "name": "stdout",
     "output_type": "stream",
     "text": [
      "Downloading https://www.cs.toronto.edu/~kriz/cifar-100-python.tar.gz to ./datasets/cifar100/cifar-100-python.tar.gz\n"
     ]
    },
    {
     "data": {
      "application/vnd.jupyter.widget-view+json": {
       "model_id": "3c97e4017742491f8d5dc260a233b21b",
       "version_major": 2,
       "version_minor": 0
      },
      "text/plain": [
       "  0%|          | 0/169001437 [00:00<?, ?it/s]"
      ]
     },
     "metadata": {},
     "output_type": "display_data"
    },
    {
     "name": "stdout",
     "output_type": "stream",
     "text": [
      "Extracting ./datasets/cifar100/cifar-100-python.tar.gz to ./datasets/cifar100\n"
     ]
    },
    {
     "name": "stdout",
     "output_type": "stream",
     "text": [
      "Files already downloaded and verified\n"
     ]
    },
    {
     "name": "stdout",
     "output_type": "stream",
     "text": [
      "In epoch 1 batch 0, batch loss = 4.5975, batch acc = 0.00 %\n"
     ]
    },
    {
     "name": "stdout",
     "output_type": "stream",
     "text": [
      "In epoch 1 batch 500, batch loss = 2.5066, batch acc = 46.88 %\n"
     ]
    },
    {
     "name": "stdout",
     "output_type": "stream",
     "text": [
      "In epoch 1 batch 1000, batch loss = 1.6440, batch acc = 50.00 %\n"
     ]
    },
    {
     "name": "stdout",
     "output_type": "stream",
     "text": [
      "In epoch 1 batch 1500, batch loss = 1.2567, batch acc = 75.00 %\n"
     ]
    },
    {
     "name": "stdout",
     "output_type": "stream",
     "text": [
      "(Epoch 1 / 12) val_acc: 59.22 %\n"
     ]
    },
    {
     "name": "stdout",
     "output_type": "stream",
     "text": [
      "In epoch 2 batch 0, batch loss = 0.7997, batch acc = 81.25 %\n"
     ]
    },
    {
     "name": "stdout",
     "output_type": "stream",
     "text": [
      "In epoch 2 batch 500, batch loss = 1.2756, batch acc = 65.62 %\n"
     ]
    },
    {
     "name": "stdout",
     "output_type": "stream",
     "text": [
      "In epoch 2 batch 1000, batch loss = 1.2540, batch acc = 62.50 %\n"
     ]
    },
    {
     "name": "stdout",
     "output_type": "stream",
     "text": [
      "In epoch 2 batch 1500, batch loss = 0.9055, batch acc = 81.25 %\n"
     ]
    },
    {
     "name": "stdout",
     "output_type": "stream",
     "text": [
      "(Epoch 2 / 12) val_acc: 67.84 %\n"
     ]
    },
    {
     "name": "stdout",
     "output_type": "stream",
     "text": [
      "In epoch 3 batch 0, batch loss = 0.4319, batch acc = 90.62 %\n"
     ]
    },
    {
     "name": "stdout",
     "output_type": "stream",
     "text": [
      "In epoch 3 batch 500, batch loss = 0.5449, batch acc = 87.50 %\n"
     ]
    },
    {
     "name": "stdout",
     "output_type": "stream",
     "text": [
      "In epoch 3 batch 1000, batch loss = 0.6114, batch acc = 84.38 %\n"
     ]
    },
    {
     "name": "stdout",
     "output_type": "stream",
     "text": [
      "In epoch 3 batch 1500, batch loss = 0.4764, batch acc = 84.38 %\n"
     ]
    },
    {
     "name": "stdout",
     "output_type": "stream",
     "text": [
      "(Epoch 3 / 12) val_acc: 71.13 %\n"
     ]
    },
    {
     "name": "stdout",
     "output_type": "stream",
     "text": [
      "In epoch 4 batch 0, batch loss = 0.2818, batch acc = 93.75 %\n"
     ]
    },
    {
     "name": "stdout",
     "output_type": "stream",
     "text": [
      "In epoch 4 batch 500, batch loss = 0.3734, batch acc = 81.25 %\n"
     ]
    },
    {
     "name": "stdout",
     "output_type": "stream",
     "text": [
      "In epoch 4 batch 1000, batch loss = 0.2028, batch acc = 100.00 %\n"
     ]
    },
    {
     "name": "stdout",
     "output_type": "stream",
     "text": [
      "In epoch 4 batch 1500, batch loss = 0.4879, batch acc = 87.50 %\n"
     ]
    },
    {
     "name": "stdout",
     "output_type": "stream",
     "text": [
      "(Epoch 4 / 12) val_acc: 72.03 %\n"
     ]
    },
    {
     "name": "stdout",
     "output_type": "stream",
     "text": [
      "In epoch 5 batch 0, batch loss = 0.3785, batch acc = 87.50 %\n"
     ]
    },
    {
     "name": "stdout",
     "output_type": "stream",
     "text": [
      "In epoch 5 batch 500, batch loss = 0.1023, batch acc = 96.88 %\n"
     ]
    },
    {
     "name": "stdout",
     "output_type": "stream",
     "text": [
      "In epoch 5 batch 1000, batch loss = 0.1966, batch acc = 90.62 %\n"
     ]
    },
    {
     "name": "stdout",
     "output_type": "stream",
     "text": [
      "In epoch 5 batch 1500, batch loss = 0.0977, batch acc = 96.88 %\n"
     ]
    },
    {
     "name": "stdout",
     "output_type": "stream",
     "text": [
      "(Epoch 5 / 12) val_acc: 74.55 %\n"
     ]
    },
    {
     "name": "stdout",
     "output_type": "stream",
     "text": [
      "In epoch 6 batch 0, batch loss = 0.0908, batch acc = 100.00 %\n"
     ]
    },
    {
     "name": "stdout",
     "output_type": "stream",
     "text": [
      "In epoch 6 batch 500, batch loss = 0.0170, batch acc = 100.00 %\n"
     ]
    },
    {
     "name": "stdout",
     "output_type": "stream",
     "text": [
      "In epoch 6 batch 1000, batch loss = 0.0219, batch acc = 100.00 %\n"
     ]
    },
    {
     "name": "stdout",
     "output_type": "stream",
     "text": [
      "In epoch 6 batch 1500, batch loss = 0.0580, batch acc = 96.88 %\n"
     ]
    },
    {
     "name": "stdout",
     "output_type": "stream",
     "text": [
      "(Epoch 6 / 12) val_acc: 75.47 %\n"
     ]
    },
    {
     "name": "stdout",
     "output_type": "stream",
     "text": [
      "In epoch 7 batch 0, batch loss = 0.0090, batch acc = 100.00 %\n"
     ]
    },
    {
     "name": "stdout",
     "output_type": "stream",
     "text": [
      "In epoch 7 batch 500, batch loss = 0.0095, batch acc = 100.00 %\n"
     ]
    },
    {
     "name": "stdout",
     "output_type": "stream",
     "text": [
      "In epoch 7 batch 1000, batch loss = 0.0178, batch acc = 100.00 %\n"
     ]
    },
    {
     "name": "stdout",
     "output_type": "stream",
     "text": [
      "In epoch 7 batch 1500, batch loss = 0.0198, batch acc = 100.00 %\n"
     ]
    },
    {
     "name": "stdout",
     "output_type": "stream",
     "text": [
      "(Epoch 7 / 12) val_acc: 76.47 %\n"
     ]
    },
    {
     "name": "stdout",
     "output_type": "stream",
     "text": [
      "In epoch 8 batch 0, batch loss = 0.0020, batch acc = 100.00 %\n"
     ]
    },
    {
     "name": "stdout",
     "output_type": "stream",
     "text": [
      "In epoch 8 batch 500, batch loss = 0.0025, batch acc = 100.00 %\n"
     ]
    },
    {
     "name": "stdout",
     "output_type": "stream",
     "text": [
      "In epoch 8 batch 1000, batch loss = 0.0041, batch acc = 100.00 %\n"
     ]
    },
    {
     "name": "stdout",
     "output_type": "stream",
     "text": [
      "In epoch 8 batch 1500, batch loss = 0.0033, batch acc = 100.00 %\n"
     ]
    },
    {
     "name": "stdout",
     "output_type": "stream",
     "text": [
      "(Epoch 8 / 12) val_acc: 77.37 %\n"
     ]
    },
    {
     "name": "stdout",
     "output_type": "stream",
     "text": [
      "In epoch 9 batch 0, batch loss = 0.0110, batch acc = 100.00 %\n"
     ]
    },
    {
     "name": "stdout",
     "output_type": "stream",
     "text": [
      "In epoch 9 batch 500, batch loss = 0.0014, batch acc = 100.00 %\n"
     ]
    },
    {
     "name": "stdout",
     "output_type": "stream",
     "text": [
      "In epoch 9 batch 1000, batch loss = 0.0009, batch acc = 100.00 %\n"
     ]
    },
    {
     "name": "stdout",
     "output_type": "stream",
     "text": [
      "In epoch 9 batch 1500, batch loss = 0.0017, batch acc = 100.00 %\n"
     ]
    },
    {
     "name": "stdout",
     "output_type": "stream",
     "text": [
      "(Epoch 9 / 12) val_acc: 78.26 %\n"
     ]
    },
    {
     "name": "stdout",
     "output_type": "stream",
     "text": [
      "In epoch 10 batch 0, batch loss = 0.0018, batch acc = 100.00 %\n"
     ]
    },
    {
     "name": "stdout",
     "output_type": "stream",
     "text": [
      "In epoch 10 batch 500, batch loss = 0.0013, batch acc = 100.00 %\n"
     ]
    },
    {
     "name": "stdout",
     "output_type": "stream",
     "text": [
      "In epoch 10 batch 1000, batch loss = 0.0052, batch acc = 100.00 %\n"
     ]
    },
    {
     "name": "stdout",
     "output_type": "stream",
     "text": [
      "In epoch 10 batch 1500, batch loss = 0.0019, batch acc = 100.00 %\n"
     ]
    },
    {
     "name": "stdout",
     "output_type": "stream",
     "text": [
      "(Epoch 10 / 12) val_acc: 78.40 %\n"
     ]
    },
    {
     "name": "stdout",
     "output_type": "stream",
     "text": [
      "In epoch 11 batch 0, batch loss = 0.0016, batch acc = 100.00 %\n"
     ]
    },
    {
     "name": "stdout",
     "output_type": "stream",
     "text": [
      "In epoch 11 batch 500, batch loss = 0.0013, batch acc = 100.00 %\n"
     ]
    },
    {
     "name": "stdout",
     "output_type": "stream",
     "text": [
      "In epoch 11 batch 1000, batch loss = 0.0014, batch acc = 100.00 %\n"
     ]
    },
    {
     "name": "stdout",
     "output_type": "stream",
     "text": [
      "In epoch 11 batch 1500, batch loss = 0.0023, batch acc = 100.00 %\n"
     ]
    },
    {
     "name": "stdout",
     "output_type": "stream",
     "text": [
      "(Epoch 11 / 12) val_acc: 78.22 %\n"
     ]
    },
    {
     "name": "stdout",
     "output_type": "stream",
     "text": [
      "In epoch 12 batch 0, batch loss = 0.0010, batch acc = 100.00 %\n"
     ]
    },
    {
     "name": "stdout",
     "output_type": "stream",
     "text": [
      "In epoch 12 batch 500, batch loss = 0.0009, batch acc = 100.00 %\n"
     ]
    },
    {
     "name": "stdout",
     "output_type": "stream",
     "text": [
      "In epoch 12 batch 1000, batch loss = 0.0012, batch acc = 100.00 %\n"
     ]
    },
    {
     "name": "stdout",
     "output_type": "stream",
     "text": [
      "In epoch 12 batch 1500, batch loss = 0.0012, batch acc = 100.00 %\n"
     ]
    },
    {
     "name": "stdout",
     "output_type": "stream",
     "text": [
      "(Epoch 12 / 12) val_acc: 78.11 %\n"
     ]
    }
   ],
   "source": [
    "pureNet = CIFAR_ViT(method = \"pure\",\n",
    "                    lr = 1e-2, \n",
    "                    lr_decay = 0.95,\n",
    "                    loss_func = nn.CrossEntropyLoss(), \n",
    "                    weight_decay = 1e-4, \n",
    "                    epochs = 12, \n",
    "                    denote_path = \"./train_history/pure\",\n",
    "                    verbose = True)\n",
    "pureNet.train()\n",
    "pureNet.save(\"pureNet\")"
   ]
  },
  {
   "cell_type": "code",
   "execution_count": 6,
   "id": "ab5eb6b6",
   "metadata": {
    "execution": {
     "iopub.execute_input": "2022-06-03T09:50:43.930069Z",
     "iopub.status.busy": "2022-06-03T09:50:43.929334Z"
    },
    "papermill": {
     "duration": null,
     "end_time": null,
     "exception": false,
     "start_time": "2022-06-03T09:50:43.920460",
     "status": "running"
    },
    "tags": []
   },
   "outputs": [
    {
     "name": "stdout",
     "output_type": "stream",
     "text": [
      "Files already downloaded and verified\n"
     ]
    },
    {
     "name": "stdout",
     "output_type": "stream",
     "text": [
      "Files already downloaded and verified\n"
     ]
    },
    {
     "name": "stdout",
     "output_type": "stream",
     "text": [
      "In epoch 1 batch 0, batch loss = 4.6232, batch acc = 0.00 %\n"
     ]
    },
    {
     "name": "stdout",
     "output_type": "stream",
     "text": [
      "In epoch 1 batch 500, batch loss = 3.1436, batch acc = 18.75 %\n"
     ]
    },
    {
     "name": "stdout",
     "output_type": "stream",
     "text": [
      "In epoch 1 batch 1000, batch loss = 1.6682, batch acc = 56.25 %\n"
     ]
    },
    {
     "name": "stdout",
     "output_type": "stream",
     "text": [
      "In epoch 1 batch 1500, batch loss = 1.5308, batch acc = 59.38 %\n"
     ]
    },
    {
     "name": "stdout",
     "output_type": "stream",
     "text": [
      "(Epoch 1 / 12) val_acc: 59.83 %\n"
     ]
    },
    {
     "name": "stdout",
     "output_type": "stream",
     "text": [
      "In epoch 2 batch 0, batch loss = 2.7999, batch acc = 9.38 %\n"
     ]
    },
    {
     "name": "stdout",
     "output_type": "stream",
     "text": [
      "In epoch 2 batch 500, batch loss = 1.1752, batch acc = 71.88 %\n"
     ]
    },
    {
     "name": "stdout",
     "output_type": "stream",
     "text": [
      "In epoch 2 batch 1000, batch loss = 1.1116, batch acc = 68.75 %\n"
     ]
    },
    {
     "name": "stdout",
     "output_type": "stream",
     "text": [
      "In epoch 2 batch 1500, batch loss = 3.2394, batch acc = 12.50 %\n"
     ]
    },
    {
     "name": "stdout",
     "output_type": "stream",
     "text": [
      "(Epoch 2 / 12) val_acc: 68.88 %\n"
     ]
    },
    {
     "name": "stdout",
     "output_type": "stream",
     "text": [
      "In epoch 3 batch 0, batch loss = 0.7556, batch acc = 78.12 %\n"
     ]
    },
    {
     "name": "stdout",
     "output_type": "stream",
     "text": [
      "In epoch 3 batch 500, batch loss = 0.5760, batch acc = 81.25 %\n"
     ]
    },
    {
     "name": "stdout",
     "output_type": "stream",
     "text": [
      "In epoch 3 batch 1000, batch loss = 0.6215, batch acc = 84.38 %\n"
     ]
    },
    {
     "name": "stdout",
     "output_type": "stream",
     "text": [
      "In epoch 3 batch 1500, batch loss = 0.4431, batch acc = 87.50 %\n"
     ]
    },
    {
     "name": "stdout",
     "output_type": "stream",
     "text": [
      "(Epoch 3 / 12) val_acc: 73.17 %\n"
     ]
    },
    {
     "name": "stdout",
     "output_type": "stream",
     "text": [
      "In epoch 4 batch 0, batch loss = 0.4241, batch acc = 90.62 %\n"
     ]
    },
    {
     "name": "stdout",
     "output_type": "stream",
     "text": [
      "In epoch 4 batch 500, batch loss = 2.5134, batch acc = 59.38 %\n"
     ]
    },
    {
     "name": "stdout",
     "output_type": "stream",
     "text": [
      "In epoch 4 batch 1000, batch loss = 0.5631, batch acc = 84.38 %\n"
     ]
    },
    {
     "name": "stdout",
     "output_type": "stream",
     "text": [
      "In epoch 4 batch 1500, batch loss = 0.4103, batch acc = 93.75 %\n"
     ]
    },
    {
     "name": "stdout",
     "output_type": "stream",
     "text": [
      "(Epoch 4 / 12) val_acc: 75.27 %\n"
     ]
    },
    {
     "name": "stdout",
     "output_type": "stream",
     "text": [
      "In epoch 5 batch 0, batch loss = 0.1647, batch acc = 93.75 %\n"
     ]
    },
    {
     "name": "stdout",
     "output_type": "stream",
     "text": [
      "In epoch 5 batch 500, batch loss = 1.2865, batch acc = 87.50 %\n"
     ]
    },
    {
     "name": "stdout",
     "output_type": "stream",
     "text": [
      "In epoch 5 batch 1000, batch loss = 2.2635, batch acc = 59.38 %\n"
     ]
    },
    {
     "name": "stdout",
     "output_type": "stream",
     "text": [
      "In epoch 5 batch 1500, batch loss = 2.4873, batch acc = 21.88 %\n"
     ]
    },
    {
     "name": "stdout",
     "output_type": "stream",
     "text": [
      "(Epoch 5 / 12) val_acc: 75.58 %\n"
     ]
    },
    {
     "name": "stdout",
     "output_type": "stream",
     "text": [
      "In epoch 6 batch 0, batch loss = 0.0739, batch acc = 100.00 %\n"
     ]
    },
    {
     "name": "stdout",
     "output_type": "stream",
     "text": [
      "In epoch 6 batch 500, batch loss = 0.1518, batch acc = 96.88 %\n"
     ]
    },
    {
     "name": "stdout",
     "output_type": "stream",
     "text": [
      "In epoch 6 batch 1000, batch loss = 0.2905, batch acc = 93.75 %\n"
     ]
    },
    {
     "name": "stdout",
     "output_type": "stream",
     "text": [
      "In epoch 6 batch 1500, batch loss = 0.2573, batch acc = 87.50 %\n"
     ]
    },
    {
     "name": "stdout",
     "output_type": "stream",
     "text": [
      "(Epoch 6 / 12) val_acc: 76.45 %\n"
     ]
    },
    {
     "name": "stdout",
     "output_type": "stream",
     "text": [
      "In epoch 7 batch 0, batch loss = 1.5347, batch acc = 81.25 %\n"
     ]
    },
    {
     "name": "stdout",
     "output_type": "stream",
     "text": [
      "In epoch 7 batch 500, batch loss = 0.1040, batch acc = 96.88 %\n"
     ]
    },
    {
     "name": "stdout",
     "output_type": "stream",
     "text": [
      "In epoch 7 batch 1000, batch loss = 0.9272, batch acc = 90.62 %\n"
     ]
    },
    {
     "name": "stdout",
     "output_type": "stream",
     "text": [
      "In epoch 7 batch 1500, batch loss = 0.1164, batch acc = 96.88 %\n"
     ]
    },
    {
     "name": "stdout",
     "output_type": "stream",
     "text": [
      "(Epoch 7 / 12) val_acc: 77.38 %\n"
     ]
    },
    {
     "name": "stdout",
     "output_type": "stream",
     "text": [
      "In epoch 8 batch 0, batch loss = 1.7345, batch acc = 6.25 %\n"
     ]
    },
    {
     "name": "stdout",
     "output_type": "stream",
     "text": [
      "In epoch 8 batch 500, batch loss = 0.1304, batch acc = 96.88 %\n"
     ]
    },
    {
     "name": "stdout",
     "output_type": "stream",
     "text": [
      "In epoch 8 batch 1000, batch loss = 0.1041, batch acc = 96.88 %\n"
     ]
    },
    {
     "name": "stdout",
     "output_type": "stream",
     "text": [
      "In epoch 8 batch 1500, batch loss = 1.1987, batch acc = 96.88 %\n"
     ]
    },
    {
     "name": "stdout",
     "output_type": "stream",
     "text": [
      "(Epoch 8 / 12) val_acc: 78.17 %\n"
     ]
    },
    {
     "name": "stdout",
     "output_type": "stream",
     "text": [
      "In epoch 9 batch 0, batch loss = 2.1470, batch acc = 0.00 %\n"
     ]
    },
    {
     "name": "stdout",
     "output_type": "stream",
     "text": [
      "In epoch 9 batch 500, batch loss = 0.6205, batch acc = 96.88 %\n"
     ]
    },
    {
     "name": "stdout",
     "output_type": "stream",
     "text": [
      "In epoch 9 batch 1000, batch loss = 0.1078, batch acc = 96.88 %\n"
     ]
    },
    {
     "name": "stdout",
     "output_type": "stream",
     "text": [
      "In epoch 9 batch 1500, batch loss = 0.0228, batch acc = 100.00 %\n"
     ]
    },
    {
     "name": "stdout",
     "output_type": "stream",
     "text": [
      "(Epoch 9 / 12) val_acc: 77.48 %\n"
     ]
    },
    {
     "name": "stdout",
     "output_type": "stream",
     "text": [
      "In epoch 10 batch 0, batch loss = 1.2386, batch acc = 90.62 %\n"
     ]
    },
    {
     "name": "stdout",
     "output_type": "stream",
     "text": [
      "In epoch 10 batch 500, batch loss = 0.0227, batch acc = 100.00 %\n"
     ]
    },
    {
     "name": "stdout",
     "output_type": "stream",
     "text": [
      "In epoch 10 batch 1000, batch loss = 1.9658, batch acc = 53.12 %\n"
     ]
    }
   ],
   "source": [
    "cutmixNet = CIFAR_ViT(method = \"cutmix\",\n",
    "                    lr = 1e-2, \n",
    "                    lr_decay = 0.95,\n",
    "                    loss_func = nn.CrossEntropyLoss(), \n",
    "                    weight_decay = 1e-4, \n",
    "                    epochs = 12, \n",
    "                    denote_path = \"./train_history/cutmix\",\n",
    "                    verbose = True)\n",
    "cutmixNet.train()\n",
    "cutmixNet.save(\"cutmixNet\")"
   ]
  },
  {
   "cell_type": "code",
   "execution_count": null,
   "id": "fbbeabf5",
   "metadata": {
    "execution": {
     "iopub.execute_input": "2022-05-10T14:23:57.455497Z",
     "iopub.status.busy": "2022-05-10T14:23:57.454977Z",
     "iopub.status.idle": "2022-05-10T14:23:57.691666Z",
     "shell.execute_reply": "2022-05-10T14:23:57.690996Z"
    },
    "papermill": {
     "duration": null,
     "end_time": null,
     "exception": null,
     "start_time": null,
     "status": "pending"
    },
    "tags": []
   },
   "outputs": [],
   "source": [
    "import matplotlib.pyplot as plt\n",
    "plt.title('Test accuracy using different methods')\n",
    "plt.plot(pureNet.val_accuracy_list, '-o', label='pure ViT')\n",
    "plt.plot(cutmixNet.val_accuracy_list, '-o', label='ViT with cutmix data')\n",
    "plt.xlabel('Epoch')\n",
    "plt.legend(loc='lower right')"
   ]
  },
  {
   "cell_type": "code",
   "execution_count": null,
   "id": "1f63a66d",
   "metadata": {
    "execution": {
     "iopub.execute_input": "2022-05-10T14:23:57.98616Z",
     "iopub.status.busy": "2022-05-10T14:23:57.985912Z",
     "iopub.status.idle": "2022-05-10T14:23:58.000063Z",
     "shell.execute_reply": "2022-05-10T14:23:57.999311Z"
    },
    "papermill": {
     "duration": null,
     "end_time": null,
     "exception": null,
     "start_time": null,
     "status": "pending"
    },
    "tags": []
   },
   "outputs": [],
   "source": [
    "plt.savefig(\"result.png\", bbox_inches='tight')"
   ]
  }
 ],
 "metadata": {
  "kernelspec": {
   "display_name": "Python 3",
   "language": "python",
   "name": "python3"
  },
  "language_info": {
   "codemirror_mode": {
    "name": "ipython",
    "version": 3
   },
   "file_extension": ".py",
   "mimetype": "text/x-python",
   "name": "python",
   "nbconvert_exporter": "python",
   "pygments_lexer": "ipython3",
   "version": "3.6.4"
  },
  "papermill": {
   "default_parameters": {},
   "duration": null,
   "end_time": null,
   "environment_variables": {},
   "exception": null,
   "input_path": "__notebook__.ipynb",
   "output_path": "__notebook__.ipynb",
   "parameters": {},
   "start_time": "2022-06-03T03:09:00.860104",
   "version": "2.3.4"
  }
 },
 "nbformat": 4,
 "nbformat_minor": 5
}