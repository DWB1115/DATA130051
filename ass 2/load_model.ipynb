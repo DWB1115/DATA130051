{
 "cells": [
  {
   "cell_type": "code",
   "execution_count": 1,
   "metadata": {},
   "outputs": [
    {
     "name": "stdout",
     "output_type": "stream",
     "text": [
      "Files already downloaded and verified\n"
     ]
    }
   ],
   "source": [
    "import torch\n",
    "import torchvision.datasets as dataset\n",
    "import torch.utils.data as data_utils\n",
    "import torchvision.transforms as transforms \n",
    "from utils.ResNet import CIFAR_ResNet\n",
    "\n",
    "transform = transforms.Compose(\n",
    "            [transforms.Resize(256),\n",
    "            transforms.CenterCrop(224),\n",
    "            transforms.ToTensor(),\n",
    "            transforms.Normalize(mean=[0.485, 0.456, 0.406], std=[0.229, 0.224, 0.225])])\n",
    "test_data = dataset.CIFAR100(root=\"./datasets/cifar100\",\n",
    "                            train=False,\n",
    "                            transform=transform,\n",
    "                            download=True)\n",
    "test_loader = data_utils.DataLoader(dataset=test_data, \n",
    "                                    batch_size=1000, \n",
    "                                    shuffle=True) \n",
    "X_try, true_labels = next(iter(test_loader))"
   ]
  },
  {
   "cell_type": "code",
   "execution_count": 3,
   "metadata": {},
   "outputs": [
    {
     "name": "stdout",
     "output_type": "stream",
     "text": [
      "Accuracy using pureNet 62.0 %%\n"
     ]
    }
   ],
   "source": [
    "NetModel = CIFAR_ResNet.load(\"./models/pureNet.pkl\")\n",
    "outputs = NetModel(X_try)\n",
    "_, y_pred = torch.max(outputs.data, 1)\n",
    "acc = 100 * (  (y_pred == true_labels).sum().item() / true_labels.size()[0] )\n",
    "print(\"Accuracy using pureNet\", acc, \"%%\")"
   ]
  },
  {
   "cell_type": "code",
   "execution_count": 4,
   "metadata": {},
   "outputs": [
    {
     "name": "stdout",
     "output_type": "stream",
     "text": [
      "Accuracy using cutoutNet 62.6 %%\n"
     ]
    }
   ],
   "source": [
    "NetModel = CIFAR_ResNet.load(\"./models/cutoutNet.pkl\")\n",
    "outputs = NetModel(X_try)\n",
    "_, y_pred = torch.max(outputs.data, 1)\n",
    "acc = 100 * (  (y_pred == true_labels).sum().item() / true_labels.size()[0] )\n",
    "print(\"Accuracy using cutoutNet\", acc, \"%%\")"
   ]
  },
  {
   "cell_type": "code",
   "execution_count": 5,
   "metadata": {},
   "outputs": [
    {
     "name": "stdout",
     "output_type": "stream",
     "text": [
      "Accuracy using mixupNet 62.1 %%\n"
     ]
    }
   ],
   "source": [
    "NetModel = CIFAR_ResNet.load(\"./models/mixupNet.pkl\")\n",
    "outputs = NetModel(X_try)\n",
    "_, y_pred = torch.max(outputs.data, 1)\n",
    "acc = 100 * (  (y_pred == true_labels).sum().item() / true_labels.size()[0] )\n",
    "print(\"Accuracy using mixupNet\", acc, \"%%\")"
   ]
  },
  {
   "cell_type": "code",
   "execution_count": 6,
   "metadata": {},
   "outputs": [
    {
     "name": "stdout",
     "output_type": "stream",
     "text": [
      "Accuracy using cutmixNet 63.2 %%\n"
     ]
    }
   ],
   "source": [
    "NetModel = CIFAR_ResNet.load(\"./models/cutmixNet.pkl\")\n",
    "outputs = NetModel(X_try)\n",
    "_, y_pred = torch.max(outputs.data, 1)\n",
    "acc = 100 * (  (y_pred == true_labels).sum().item() / true_labels.size()[0] )\n",
    "print(\"Accuracy using cutmixNet\", acc, \"%%\")"
   ]
  }
 ],
 "metadata": {
  "interpreter": {
   "hash": "3a9038abeedc9305bfe7484df80f2a93d14d7c19db297dec11f12546ea581001"
  },
  "kernelspec": {
   "display_name": "Python 3.8.12 ('cv')",
   "language": "python",
   "name": "python3"
  },
  "language_info": {
   "codemirror_mode": {
    "name": "ipython",
    "version": 3
   },
   "file_extension": ".py",
   "mimetype": "text/x-python",
   "name": "python",
   "nbconvert_exporter": "python",
   "pygments_lexer": "ipython3",
   "version": "3.8.12"
  },
  "orig_nbformat": 4
 },
 "nbformat": 4,
 "nbformat_minor": 2
}
